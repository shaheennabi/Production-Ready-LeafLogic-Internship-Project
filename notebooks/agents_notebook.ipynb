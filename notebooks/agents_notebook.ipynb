{
  "cells": [
    {
      "cell_type": "markdown",
      "metadata": {
        "id": "rSvUHrE4DDtH"
      },
      "source": [
        "### installing requirements"
      ]
    },
    {
      "cell_type": "code",
      "execution_count": 1,
      "metadata": {
        "colab": {
          "base_uri": "https://localhost:8080/"
        },
        "id": "T7Opf_vSDHf0",
        "outputId": "7edbcd0a-dba8-421a-8a1f-85092f4ae9c9"
      },
      "outputs": [
        {
          "name": "stdout",
          "output_type": "stream",
          "text": [
            "Requirement already satisfied: openai in /usr/local/lib/python3.11/dist-packages (1.61.1)\n",
            "Collecting google-search-results\n",
            "  Downloading google_search_results-2.4.2.tar.gz (18 kB)\n",
            "  Preparing metadata (setup.py) ... \u001b[?25l\u001b[?25hdone\n",
            "Collecting taskflowai\n",
            "  Downloading taskflowai-0.5.13-py3-none-any.whl.metadata (11 kB)\n",
            "Requirement already satisfied: anyio<5,>=3.5.0 in /usr/local/lib/python3.11/dist-packages (from openai) (3.7.1)\n",
            "Requirement already satisfied: distro<2,>=1.7.0 in /usr/local/lib/python3.11/dist-packages (from openai) (1.9.0)\n",
            "Requirement already satisfied: httpx<1,>=0.23.0 in /usr/local/lib/python3.11/dist-packages (from openai) (0.28.1)\n",
            "Requirement already satisfied: jiter<1,>=0.4.0 in /usr/local/lib/python3.11/dist-packages (from openai) (0.8.2)\n",
            "Requirement already satisfied: pydantic<3,>=1.9.0 in /usr/local/lib/python3.11/dist-packages (from openai) (2.10.6)\n",
            "Requirement already satisfied: sniffio in /usr/local/lib/python3.11/dist-packages (from openai) (1.3.1)\n",
            "Requirement already satisfied: tqdm>4 in /usr/local/lib/python3.11/dist-packages (from openai) (4.67.1)\n",
            "Requirement already satisfied: typing-extensions<5,>=4.11 in /usr/local/lib/python3.11/dist-packages (from openai) (4.12.2)\n",
            "Requirement already satisfied: requests in /usr/local/lib/python3.11/dist-packages (from google-search-results) (2.32.3)\n",
            "Requirement already satisfied: PyYAML in /usr/local/lib/python3.11/dist-packages (from taskflowai) (6.0.2)\n",
            "Collecting anthropic (from taskflowai)\n",
            "  Downloading anthropic-0.47.2-py3-none-any.whl.metadata (24 kB)\n",
            "Requirement already satisfied: beautifulsoup4 in /usr/local/lib/python3.11/dist-packages (from taskflowai) (4.13.3)\n",
            "Collecting cohere (from taskflowai)\n",
            "  Downloading cohere-5.13.12-py3-none-any.whl.metadata (3.4 kB)\n",
            "Collecting elevenlabs (from taskflowai)\n",
            "  Downloading elevenlabs-1.51.0-py3-none-any.whl.metadata (7.3 kB)\n",
            "Collecting faiss-cpu (from taskflowai)\n",
            "  Downloading faiss_cpu-1.10.0-cp311-cp311-manylinux_2_28_x86_64.whl.metadata (4.4 kB)\n",
            "Collecting fake-useragent (from taskflowai)\n",
            "  Downloading fake_useragent-2.0.3-py3-none-any.whl.metadata (17 kB)\n",
            "Collecting groq (from taskflowai)\n",
            "  Downloading groq-0.18.0-py3-none-any.whl.metadata (14 kB)\n",
            "Collecting halo (from taskflowai)\n",
            "  Downloading halo-0.0.31.tar.gz (11 kB)\n",
            "  Preparing metadata (setup.py) ... \u001b[?25l\u001b[?25hdone\n",
            "Collecting igraph (from taskflowai)\n",
            "  Downloading igraph-0.11.8-cp39-abi3-manylinux_2_17_x86_64.manylinux2014_x86_64.whl.metadata (3.8 kB)\n",
            "Collecting leidenalg (from taskflowai)\n",
            "  Downloading leidenalg-0.10.2-cp38-abi3-manylinux_2_17_x86_64.manylinux2014_x86_64.whl.metadata (10 kB)\n",
            "Requirement already satisfied: lxml in /usr/local/lib/python3.11/dist-packages (from taskflowai) (5.3.1)\n",
            "Requirement already satisfied: numpy in /usr/local/lib/python3.11/dist-packages (from taskflowai) (1.26.4)\n",
            "Collecting ollama (from taskflowai)\n",
            "  Downloading ollama-0.4.7-py3-none-any.whl.metadata (4.7 kB)\n",
            "Collecting pinecone (from taskflowai)\n",
            "  Downloading pinecone-6.0.1-py3-none-any.whl.metadata (8.8 kB)\n",
            "Collecting python-dotenv (from taskflowai)\n",
            "  Downloading python_dotenv-1.0.1-py3-none-any.whl.metadata (23 kB)\n",
            "Collecting sentence_splitter (from taskflowai)\n",
            "  Downloading sentence_splitter-1.4-py2.py3-none-any.whl.metadata (2.8 kB)\n",
            "Collecting waitress (from taskflowai)\n",
            "  Downloading waitress-3.0.2-py3-none-any.whl.metadata (5.8 kB)\n",
            "Requirement already satisfied: idna>=2.8 in /usr/local/lib/python3.11/dist-packages (from anyio<5,>=3.5.0->openai) (3.10)\n",
            "Requirement already satisfied: certifi in /usr/local/lib/python3.11/dist-packages (from httpx<1,>=0.23.0->openai) (2025.1.31)\n",
            "Requirement already satisfied: httpcore==1.* in /usr/local/lib/python3.11/dist-packages (from httpx<1,>=0.23.0->openai) (1.0.7)\n",
            "Requirement already satisfied: h11<0.15,>=0.13 in /usr/local/lib/python3.11/dist-packages (from httpcore==1.*->httpx<1,>=0.23.0->openai) (0.14.0)\n",
            "Requirement already satisfied: annotated-types>=0.6.0 in /usr/local/lib/python3.11/dist-packages (from pydantic<3,>=1.9.0->openai) (0.7.0)\n",
            "Requirement already satisfied: pydantic-core==2.27.2 in /usr/local/lib/python3.11/dist-packages (from pydantic<3,>=1.9.0->openai) (2.27.2)\n",
            "Requirement already satisfied: soupsieve>1.2 in /usr/local/lib/python3.11/dist-packages (from beautifulsoup4->taskflowai) (2.6)\n",
            "Collecting fastavro<2.0.0,>=1.9.4 (from cohere->taskflowai)\n",
            "  Downloading fastavro-1.10.0-cp311-cp311-manylinux_2_17_x86_64.manylinux2014_x86_64.whl.metadata (5.5 kB)\n",
            "Collecting httpx-sse==0.4.0 (from cohere->taskflowai)\n",
            "  Downloading httpx_sse-0.4.0-py3-none-any.whl.metadata (9.0 kB)\n",
            "Requirement already satisfied: tokenizers<1,>=0.15 in /usr/local/lib/python3.11/dist-packages (from cohere->taskflowai) (0.21.0)\n",
            "Collecting types-requests<3.0.0,>=2.0.0 (from cohere->taskflowai)\n",
            "  Downloading types_requests-2.32.0.20241016-py3-none-any.whl.metadata (1.9 kB)\n",
            "Requirement already satisfied: charset-normalizer<4,>=2 in /usr/local/lib/python3.11/dist-packages (from requests->google-search-results) (3.4.1)\n",
            "Requirement already satisfied: urllib3<3,>=1.21.1 in /usr/local/lib/python3.11/dist-packages (from requests->google-search-results) (2.3.0)\n",
            "Requirement already satisfied: websockets>=11.0 in /usr/local/lib/python3.11/dist-packages (from elevenlabs->taskflowai) (14.2)\n",
            "Requirement already satisfied: packaging in /usr/local/lib/python3.11/dist-packages (from faiss-cpu->taskflowai) (24.2)\n",
            "Collecting log_symbols>=0.0.14 (from halo->taskflowai)\n",
            "  Downloading log_symbols-0.0.14-py3-none-any.whl.metadata (523 bytes)\n",
            "Collecting spinners>=0.0.24 (from halo->taskflowai)\n",
            "  Downloading spinners-0.0.24-py3-none-any.whl.metadata (576 bytes)\n",
            "Requirement already satisfied: termcolor>=1.1.0 in /usr/local/lib/python3.11/dist-packages (from halo->taskflowai) (2.5.0)\n",
            "Collecting colorama>=0.3.9 (from halo->taskflowai)\n",
            "  Downloading colorama-0.4.6-py2.py3-none-any.whl.metadata (17 kB)\n",
            "Requirement already satisfied: six>=1.12.0 in /usr/local/lib/python3.11/dist-packages (from halo->taskflowai) (1.17.0)\n",
            "Collecting texttable>=1.6.2 (from igraph->taskflowai)\n",
            "  Downloading texttable-1.7.0-py2.py3-none-any.whl.metadata (9.8 kB)\n",
            "Collecting pinecone-plugin-interface<0.0.8,>=0.0.7 (from pinecone->taskflowai)\n",
            "  Downloading pinecone_plugin_interface-0.0.7-py3-none-any.whl.metadata (1.2 kB)\n",
            "Requirement already satisfied: python-dateutil>=2.5.3 in /usr/local/lib/python3.11/dist-packages (from pinecone->taskflowai) (2.8.2)\n",
            "Requirement already satisfied: regex>=2017.12.12 in /usr/local/lib/python3.11/dist-packages (from sentence_splitter->taskflowai) (2024.11.6)\n",
            "Requirement already satisfied: huggingface-hub<1.0,>=0.16.4 in /usr/local/lib/python3.11/dist-packages (from tokenizers<1,>=0.15->cohere->taskflowai) (0.28.1)\n",
            "Requirement already satisfied: filelock in /usr/local/lib/python3.11/dist-packages (from huggingface-hub<1.0,>=0.16.4->tokenizers<1,>=0.15->cohere->taskflowai) (3.17.0)\n",
            "Requirement already satisfied: fsspec>=2023.5.0 in /usr/local/lib/python3.11/dist-packages (from huggingface-hub<1.0,>=0.16.4->tokenizers<1,>=0.15->cohere->taskflowai) (2024.10.0)\n",
            "Downloading taskflowai-0.5.13-py3-none-any.whl (73 kB)\n",
            "\u001b[2K   \u001b[90m━━━━━━━━━━━━━━━━━━━━━━━━━━━━━━━━━━━━━━━━\u001b[0m \u001b[32m73.6/73.6 kB\u001b[0m \u001b[31m3.5 MB/s\u001b[0m eta \u001b[36m0:00:00\u001b[0m\n",
            "\u001b[?25hDownloading anthropic-0.47.2-py3-none-any.whl (239 kB)\n",
            "\u001b[2K   \u001b[90m━━━━━━━━━━━━━━━━━━━━━━━━━━━━━━━━━━━━━━━━\u001b[0m \u001b[32m239.5/239.5 kB\u001b[0m \u001b[31m11.6 MB/s\u001b[0m eta \u001b[36m0:00:00\u001b[0m\n",
            "\u001b[?25hDownloading cohere-5.13.12-py3-none-any.whl (252 kB)\n",
            "\u001b[2K   \u001b[90m━━━━━━━━━━━━━━━━━━━━━━━━━━━━━━━━━━━━━━━━\u001b[0m \u001b[32m252.9/252.9 kB\u001b[0m \u001b[31m11.2 MB/s\u001b[0m eta \u001b[36m0:00:00\u001b[0m\n",
            "\u001b[?25hDownloading httpx_sse-0.4.0-py3-none-any.whl (7.8 kB)\n",
            "Downloading elevenlabs-1.51.0-py3-none-any.whl (294 kB)\n",
            "\u001b[2K   \u001b[90m━━━━━━━━━━━━━━━━━━━━━━━━━━━━━━━━━━━━━━━━\u001b[0m \u001b[32m294.7/294.7 kB\u001b[0m \u001b[31m15.8 MB/s\u001b[0m eta \u001b[36m0:00:00\u001b[0m\n",
            "\u001b[?25hDownloading faiss_cpu-1.10.0-cp311-cp311-manylinux_2_28_x86_64.whl (30.7 MB)\n",
            "\u001b[2K   \u001b[90m━━━━━━━━━━━━━━━━━━━━━━━━━━━━━━━━━━━━━━━━\u001b[0m \u001b[32m30.7/30.7 MB\u001b[0m \u001b[31m49.3 MB/s\u001b[0m eta \u001b[36m0:00:00\u001b[0m\n",
            "\u001b[?25hDownloading fake_useragent-2.0.3-py3-none-any.whl (201 kB)\n",
            "\u001b[2K   \u001b[90m━━━━━━━━━━━━━━━━━━━━━━━━━━━━━━━━━━━━━━━━\u001b[0m \u001b[32m201.1/201.1 kB\u001b[0m \u001b[31m11.4 MB/s\u001b[0m eta \u001b[36m0:00:00\u001b[0m\n",
            "\u001b[?25hDownloading groq-0.18.0-py3-none-any.whl (121 kB)\n",
            "\u001b[2K   \u001b[90m━━━━━━━━━━━━━━━━━━━━━━━━━━━━━━━━━━━━━━━━\u001b[0m \u001b[32m121.9/121.9 kB\u001b[0m \u001b[31m7.9 MB/s\u001b[0m eta \u001b[36m0:00:00\u001b[0m\n",
            "\u001b[?25hDownloading igraph-0.11.8-cp39-abi3-manylinux_2_17_x86_64.manylinux2014_x86_64.whl (3.1 MB)\n",
            "\u001b[2K   \u001b[90m━━━━━━━━━━━━━━━━━━━━━━━━━━━━━━━━━━━━━━━━\u001b[0m \u001b[32m3.1/3.1 MB\u001b[0m \u001b[31m59.7 MB/s\u001b[0m eta \u001b[36m0:00:00\u001b[0m\n",
            "\u001b[?25hDownloading leidenalg-0.10.2-cp38-abi3-manylinux_2_17_x86_64.manylinux2014_x86_64.whl (2.0 MB)\n",
            "\u001b[2K   \u001b[90m━━━━━━━━━━━━━━━━━━━━━━━━━━━━━━━━━━━━━━━━\u001b[0m \u001b[32m2.0/2.0 MB\u001b[0m \u001b[31m47.5 MB/s\u001b[0m eta \u001b[36m0:00:00\u001b[0m\n",
            "\u001b[?25hDownloading ollama-0.4.7-py3-none-any.whl (13 kB)\n",
            "Downloading pinecone-6.0.1-py3-none-any.whl (421 kB)\n",
            "\u001b[2K   \u001b[90m━━━━━━━━━━━━━━━━━━━━━━━━━━━━━━━━━━━━━━━━\u001b[0m \u001b[32m421.4/421.4 kB\u001b[0m \u001b[31m20.1 MB/s\u001b[0m eta \u001b[36m0:00:00\u001b[0m\n",
            "\u001b[?25hDownloading python_dotenv-1.0.1-py3-none-any.whl (19 kB)\n",
            "Downloading sentence_splitter-1.4-py2.py3-none-any.whl (44 kB)\n",
            "\u001b[2K   \u001b[90m━━━━━━━━━━━━━━━━━━━━━━━━━━━━━━━━━━━━━━━━\u001b[0m \u001b[32m45.0/45.0 kB\u001b[0m \u001b[31m2.4 MB/s\u001b[0m eta \u001b[36m0:00:00\u001b[0m\n",
            "\u001b[?25hDownloading waitress-3.0.2-py3-none-any.whl (56 kB)\n",
            "\u001b[2K   \u001b[90m━━━━━━━━━━━━━━━━━━━━━━━━━━━━━━━━━━━━━━━━\u001b[0m \u001b[32m56.2/56.2 kB\u001b[0m \u001b[31m2.6 MB/s\u001b[0m eta \u001b[36m0:00:00\u001b[0m\n",
            "\u001b[?25hDownloading colorama-0.4.6-py2.py3-none-any.whl (25 kB)\n",
            "Downloading fastavro-1.10.0-cp311-cp311-manylinux_2_17_x86_64.manylinux2014_x86_64.whl (3.3 MB)\n",
            "\u001b[2K   \u001b[90m━━━━━━━━━━━━━━━━━━━━━━━━━━━━━━━━━━━━━━━━\u001b[0m \u001b[32m3.3/3.3 MB\u001b[0m \u001b[31m51.9 MB/s\u001b[0m eta \u001b[36m0:00:00\u001b[0m\n",
            "\u001b[?25hDownloading log_symbols-0.0.14-py3-none-any.whl (3.1 kB)\n",
            "Downloading pinecone_plugin_interface-0.0.7-py3-none-any.whl (6.2 kB)\n",
            "Downloading spinners-0.0.24-py3-none-any.whl (5.5 kB)\n",
            "Downloading texttable-1.7.0-py2.py3-none-any.whl (10 kB)\n",
            "Downloading types_requests-2.32.0.20241016-py3-none-any.whl (15 kB)\n",
            "Building wheels for collected packages: google-search-results, halo\n",
            "  Building wheel for google-search-results (setup.py) ... \u001b[?25l\u001b[?25hdone\n",
            "  Created wheel for google-search-results: filename=google_search_results-2.4.2-py3-none-any.whl size=32009 sha256=aca27228d3c41752d80c44c7945e68478c5c418215b9855007026accdfb76a52\n",
            "  Stored in directory: /root/.cache/pip/wheels/6e/42/3e/aeb691b02cb7175ec70e2da04b5658d4739d2b41e5f73cd06f\n",
            "  Building wheel for halo (setup.py) ... \u001b[?25l\u001b[?25hdone\n",
            "  Created wheel for halo: filename=halo-0.0.31-py3-none-any.whl size=11233 sha256=99883c9ee82cef7e6124ccfc92c7c29d7ad8a805ca414fd7d5e90e59dbb9ab08\n",
            "  Stored in directory: /root/.cache/pip/wheels/2e/b1/0a/62566170555f623c8327d47df1f53b6e4311ec9dd0ea70a99c\n",
            "Successfully built google-search-results halo\n",
            "Installing collected packages: texttable, spinners, waitress, types-requests, sentence_splitter, python-dotenv, pinecone-plugin-interface, igraph, httpx-sse, fastavro, fake-useragent, faiss-cpu, colorama, pinecone, log_symbols, leidenalg, google-search-results, ollama, halo, groq, elevenlabs, anthropic, cohere, taskflowai\n",
            "Successfully installed anthropic-0.47.2 cohere-5.13.12 colorama-0.4.6 elevenlabs-1.51.0 faiss-cpu-1.10.0 fake-useragent-2.0.3 fastavro-1.10.0 google-search-results-2.4.2 groq-0.18.0 halo-0.0.31 httpx-sse-0.4.0 igraph-0.11.8 leidenalg-0.10.2 log_symbols-0.0.14 ollama-0.4.7 pinecone-6.0.1 pinecone-plugin-interface-0.0.7 python-dotenv-1.0.1 sentence_splitter-1.4 spinners-0.0.24 taskflowai-0.5.13 texttable-1.7.0 types-requests-2.32.0.20241016 waitress-3.0.2\n"
          ]
        }
      ],
      "source": [
        "!pip install openai google-search-results taskflowai"
      ]
    },
    {
      "cell_type": "markdown",
      "metadata": {
        "id": "_vlakwHQsFQO"
      },
      "source": [
        "## import apis, etc"
      ]
    },
    {
      "cell_type": "code",
      "execution_count": null,
      "metadata": {
        "colab": {
          "base_uri": "https://localhost:8080/"
        },
        "id": "0_pVB_pSqFAF",
        "outputId": "3f8d5b55-a8c3-43af-f386-6ed4eb31b8f7"
      },
      "outputs": [
        {
          "name": "stdout",
          "output_type": "stream",
          "text": [
            "✅ API Keys Loaded Successfully!\n"
          ]
        }
      ],
      "source": [
        "from taskflowai import OpenaiModels\n",
        "from google.colab import userdata\n",
        "import os\n",
        "\n",
        "# ✅ Set API Keys (You should remove them after testing for security reasons)\n",
        "os.environ[\"OPENAI_API_KEY\"] = \"your api key\"\n",
        "os.environ[\"EXA_API_KEY\"] = \"your api key\"\n",
        "os.environ[\"SERPER_API_KEY\"] = \"your api  key\"\n",
        "\n",
        "\n",
        "# ✅ Fetch API Keys from Colab Secrets or Environment Variables\n",
        "OPENAI_API_KEY = userdata.get(\"OPENAI_API_KEY\") or os.getenv(\"OPENAI_API_KEY\")\n",
        "EXA_API_KEY = userdata.get(\"EXA_API_KEY\") or os.getenv(\"EXA_API_KEY\")\n",
        "SERPER_API_KEY = userdata.get(\"SERPER_API_KEY\") or os.getenv(\"SERPER_API_KEY\")\n",
        "\n",
        "\n",
        "\n",
        "\n",
        "\n",
        "# ✅ Validate API Keys\n",
        "if not OPENAI_API_KEY:\n",
        "    raise ValueError(\"❌ Missing OPENAI_API_KEY. Set it in Colab using `userdata` or `os.environ`.\")\n",
        "\n",
        "if not EXA_API_KEY:\n",
        "    raise ValueError(\"❌ Missing EXA_API_KEY. Set it in Colab using `userdata` or `os.environ`.\")\n",
        "\n",
        "if not SERPER_API_KEY:\n",
        "    raise ValueError(\"❌ Missing SERPER_API_KEY. Set it in Colab using `userdata` or `os.environ`.\")\n",
        "\n",
        "\n",
        "\n",
        "print(\"✅ API Keys Loaded Successfully!\")\n",
        "\n",
        "\n",
        "class LoadModel:\n",
        "    @staticmethod\n",
        "    def load_openai_model():\n",
        "        \"\"\"Load and return the OpenAI GPT-3.5-turbo model.\"\"\"\n",
        "        try:\n",
        "            return OpenaiModels.gpt_3_5_turbo\n",
        "        except Exception as e:\n",
        "            raise RuntimeError(f\"Error loading OpenAI model: {e}\") from e\n"
      ]
    },
    {
      "cell_type": "markdown",
      "metadata": {
        "id": "GTeE-6lhsKQ2"
      },
      "source": [
        "### Wiki_Articles Tool"
      ]
    },
    {
      "cell_type": "code",
      "execution_count": 3,
      "metadata": {
        "id": "pBxlpPlCqFCp"
      },
      "outputs": [],
      "source": [
        "from taskflowai import WikipediaTools\n",
        "\n",
        "class WikiArticles:\n",
        "    @staticmethod\n",
        "    def fetch_articles(query: str):\n",
        "        try:\n",
        "            articles = WikipediaTools.search_articles(query=query)\n",
        "            return articles\n",
        "        except Exception as e:\n",
        "            raise RuntimeError(f\"Error fetching Wikipedia articles: {e}\") from e\n"
      ]
    },
    {
      "cell_type": "markdown",
      "metadata": {
        "id": "qXaG1hgMsTIH"
      },
      "source": [
        "### Wiki_Images Tool"
      ]
    },
    {
      "cell_type": "code",
      "execution_count": 4,
      "metadata": {
        "id": "BU7jWfExqFFZ"
      },
      "outputs": [],
      "source": [
        "from taskflowai import WikipediaTools\n",
        "\n",
        "class WikiImages:\n",
        "    @staticmethod\n",
        "    def search_images(query: str):\n",
        "        \"\"\"Search for images on Wikipedia based on the given query.\"\"\"\n",
        "        try:\n",
        "            return WikipediaTools.search_images(query=query)\n",
        "        except Exception as e:\n",
        "            raise RuntimeError(f\"Error fetching Wikipedia images: {e}\") from e\n"
      ]
    },
    {
      "cell_type": "markdown",
      "metadata": {
        "id": "q3PH0jaLmDKL"
      },
      "source": [
        "### EXa search APi tool"
      ]
    },
    {
      "cell_type": "code",
      "execution_count": 5,
      "metadata": {
        "id": "qrlG8caemJai"
      },
      "outputs": [],
      "source": [
        "from taskflowai import WebTools\n",
        "from typing import Optional\n",
        "\n",
        "class ExaSearch:\n",
        "    @staticmethod\n",
        "    def search_web(query: str, num_results: Optional[int] = 5):\n",
        "        \"\"\"Perform a web search with a query and return the result.\"\"\"\n",
        "        try:\n",
        "            if \"EXA_API_KEY\" not in os.environ:\n",
        "                raise Exception(\"EXA_API_KEY environment variable is not set\")\n",
        "\n",
        "            search_result = WebTools.exa_search(query, int(num_results))\n",
        "            return search_result\n",
        "\n",
        "        except Exception as e:\n",
        "            print(f\"Search failed: {e}\")\n",
        "            return \"No data available\"\n"
      ]
    },
    {
      "cell_type": "markdown",
      "metadata": {
        "id": "obnz8CIeYv6x"
      },
      "source": [
        "### EXA  Shopping Search tool\n",
        "\n"
      ]
    },
    {
      "cell_type": "code",
      "execution_count": 6,
      "metadata": {
        "id": "EtkzvebiYyiG"
      },
      "outputs": [],
      "source": [
        "import os\n",
        "from taskflowai import WebTools\n",
        "from typing import Optional\n",
        "\n",
        "class ExaShoppingSearch:\n",
        "    @staticmethod\n",
        "    def search_web(query: str, num_results: Optional[int] = 5):\n",
        "        \"\"\"Perform a web search for shopping results with a given query.\"\"\"\n",
        "        try:\n",
        "            if \"EXA_API_KEY\" not in os.environ:\n",
        "                raise Exception(\"EXA_API_KEY environment variable is not set\")\n",
        "\n",
        "            # Fix: Use 'queries' instead of 'query'\n",
        "            search_result = WebTools.exa_search(\n",
        "                queries=query,  # <- Corrected this line\n",
        "                search_type=\"keyword\",\n",
        "                num_results=int(num_results)\n",
        "            )\n",
        "            return search_result\n",
        "\n",
        "        except Exception as e:\n",
        "            return f\"Search failed: {e}\"  # Return error message instead of printing\n"
      ]
    },
    {
      "cell_type": "markdown",
      "metadata": {
        "id": "K7EdVhmyNuD-"
      },
      "source": [
        "###  serper Shopping search tool"
      ]
    },
    {
      "cell_type": "code",
      "execution_count": 19,
      "metadata": {
        "id": "l4WzGV8HNtAh"
      },
      "outputs": [],
      "source": [
        "## Serper api was down during the creation of this project, so I gave agent the access to ExaShopping as second option:\n",
        "\n",
        "import os\n",
        "from dotenv import load_dotenv\n",
        "from taskflowai import WebTools\n",
        "from typing import Optional\n",
        "\n",
        "class SerperSearch:\n",
        "    @staticmethod\n",
        "    def search_web(query: str, num_results: Optional[int] = 5):\n",
        "        \"\"\"Perform a web search using the Serper API.\n",
        "\n",
        "        Args:\n",
        "            query (str): The search query.\n",
        "            num_results (Optional[int]): Number of results to fetch (default: 5).\n",
        "\n",
        "        Returns:\n",
        "            dict: The search results from the API.\n",
        "\n",
        "        Raises:\n",
        "            RuntimeError: If the search fails.\n",
        "        \"\"\"\n",
        "        try:\n",
        "            # Load environment variables from .env file\n",
        "            load_dotenv()\n",
        "\n",
        "            # Retrieve API key\n",
        "            api_key = os.getenv(\"SERPER_API_KEY\")\n",
        "            if not api_key:\n",
        "                raise ValueError(\"SERPER_API_KEY is not set in the environment or .env file.\")\n",
        "\n",
        "            # Perform web search\n",
        "            return WebTools.serper_search(query=query, search_type=\"shopping\", num_results=int(num_results))\n",
        "\n",
        "        except Exception as e:\n",
        "            raise RuntimeError(f\"Failed to perform web Serper search: {e}\") from e\n"
      ]
    },
    {
      "cell_type": "markdown",
      "metadata": {
        "id": "6wIIFOqtuDZD"
      },
      "source": [
        "### Web Research Agent"
      ]
    },
    {
      "cell_type": "code",
      "execution_count": 8,
      "metadata": {
        "id": "s41zUU4DqcIY"
      },
      "outputs": [],
      "source": [
        "from taskflowai import Agent\n",
        "\n",
        "class WebResearchAgent:\n",
        "    @staticmethod\n",
        "    def initialize_web_research_agent():\n",
        "        \"\"\"\n",
        "        Initializes and returns the Crop or Plant Web Research Agent.\n",
        "        \"\"\"\n",
        "        try:\n",
        "            web_research_agent = Agent(\n",
        "                role=\"Crop and Plant Research Agent\",\n",
        "                goal=\"Collect key details about a crop or plant, including classification, uses, growth conditions, and images.\",\n",
        "                attributes=\"Accurate, structured, and data-driven.\",\n",
        "                llm=LoadModel.load_openai_model(),\n",
        "                tools=[\n",
        "                    WikiArticles.fetch_articles,\n",
        "                    WikiImages.search_images,\n",
        "                    ExaSearch.search_web\n",
        "                ],\n",
        "            )\n",
        "\n",
        "            return web_research_agent\n",
        "\n",
        "        except Exception as e:\n",
        "            raise Exception(f\"Failed to initialize Web Research Agent: {str(e)}\")"
      ]
    },
    {
      "cell_type": "markdown",
      "metadata": {
        "id": "imwmxOFAu5G3"
      },
      "source": [
        "### Price Fetching Agent"
      ]
    },
    {
      "cell_type": "code",
      "execution_count": 21,
      "metadata": {
        "id": "xo_GRMAaqcLH"
      },
      "outputs": [],
      "source": [
        "from taskflowai import Agent\n",
        "\n",
        "class PriceFetchingAgent:\n",
        "    @staticmethod\n",
        "    def initialize_price_fetching_agent(query: str):\n",
        "        \"\"\"\n",
        "        Initializes and returns the Crop or Plant Price Research Agent.\n",
        "\n",
        "        Args:\n",
        "            query (str): The plant name or keyword for price research.\n",
        "\n",
        "        Returns:\n",
        "            Agent: A price research agent instance.\n",
        "        \"\"\"\n",
        "        try:\n",
        "            price_fetching_agent = Agent(\n",
        "                role=\"Price Research Agent\",\n",
        "                goal=\"Find and compare the best prices for crops and plants across different markets.\",\n",
        "                attributes=\"Cost-conscious, data-driven, and focused on accurate price comparisons.\",\n",
        "                llm=LoadModel.load_openai_model(),\n",
        "                tools=[SerperSearch.search_web, ExaShoppingSearch.search_web],\n",
        "            )\n",
        "\n",
        "            return price_fetching_agent\n",
        "\n",
        "        except Exception as e:\n",
        "            raise Exception(f\"Error initializing Price Research Agent: {str(e)}\")\n"
      ]
    },
    {
      "cell_type": "markdown",
      "metadata": {
        "id": "PKcK3GFXaKJ1"
      },
      "source": [
        "### reseach overall web task"
      ]
    },
    {
      "cell_type": "code",
      "execution_count": 10,
      "metadata": {
        "id": "u09lGXTGquY0"
      },
      "outputs": [],
      "source": [
        "from taskflowai import Task\n",
        "\n",
        "def research_overall_web(plant_name: str):\n",
        "    \"\"\"\n",
        "    Conducts web research on a plant, gathering details on:\n",
        "    - Scientific name, origin, and growing regions\n",
        "    - Uses, benefits, and growth conditions\n",
        "    - Common pests, diseases, and economic significance\n",
        "    - Relevant images formatted as ![Description](https://full-image-url)\n",
        "\n",
        "    Returns:\n",
        "    - A structured research task with AI-powered web search.\n",
        "\n",
        "    Raises:\n",
        "    - Exception on failure.\n",
        "    \"\"\"\n",
        "\n",
        "    try:\n",
        "        agent = WebResearchAgent.initialize_web_research_agent()\n",
        "        task = Task.create(\n",
        "            agent=agent,\n",
        "            context=f\"Plant Name: {plant_name}\",\n",
        "            instruction=(\n",
        "                f\"Research {plant_name} and provide details on:\\n\"\n",
        "                f\"- Scientific classification, origin, and regions\\n\"\n",
        "                f\"- Uses, benefits, and growth conditions\\n\"\n",
        "                f\"- Pests, diseases, and economic significance\\n\"\n",
        "                f\"- Provide relevant images (![Description](https://full-image-url))\\n\"\n",
        "            ),\n",
        "        )\n",
        "        return task\n",
        "\n",
        "    except Exception as e:\n",
        "        raise Exception(f\"Error in research_overall_web for {plant_name}: {e}\")\n"
      ]
    },
    {
      "cell_type": "markdown",
      "metadata": {
        "id": "E9UAixaQ__J1"
      },
      "source": [
        "### Research health task"
      ]
    },
    {
      "cell_type": "code",
      "execution_count": 11,
      "metadata": {
        "id": "FTndO6S6AELq"
      },
      "outputs": [],
      "source": [
        "from taskflowai import Task\n",
        "\n",
        "def research_health(plant_name: str):\n",
        "    \"\"\"Research health-related information about the plant.\"\"\"\n",
        "    try:\n",
        "        agent = WebResearchAgent.initialize_web_research_agent()\n",
        "        task = Task.create(\n",
        "            agent=agent,\n",
        "            context=f\"Plant: {plant_name}\",\n",
        "            instruction=(\n",
        "                f\"Research health aspects of {plant_name}, including:\\n\"\n",
        "                f\"- Benefits & medicinal uses\\n\"\n",
        "                f\"- Risks & toxicity\\n\"\n",
        "                f\"- Nutritional value\\n\"\n",
        "                f\"- Traditional remedies\\n\"\n",
        "                f\"- Scientific studies\\n\"\n",
        "                f\"Provide structured, referenced insights.\"\n",
        "            ),\n",
        "        )\n",
        "        return task\n",
        "    except Exception as e:\n",
        "        raise Exception(f\"Error in research_health: {e}\")\n"
      ]
    },
    {
      "cell_type": "markdown",
      "metadata": {
        "id": "RnQgHLstAZMw"
      },
      "source": [
        "### Research Season task"
      ]
    },
    {
      "cell_type": "code",
      "execution_count": 12,
      "metadata": {
        "id": "Vc1tZYquAfw4"
      },
      "outputs": [],
      "source": [
        "from taskflowai import Task\n",
        "\n",
        "def research_season(plant_name: str):\n",
        "    \"\"\"Research seasonal growth and farming details of the plant.\"\"\"\n",
        "    try:\n",
        "        agent = WebResearchAgent.initialize_web_research_agent()\n",
        "        task = Task.create(\n",
        "            agent=agent,\n",
        "            context=f\"Plant: {plant_name}\",\n",
        "            instruction=(\n",
        "                f\"Research {plant_name}'s optimal growth conditions:\\n\"\n",
        "                f\"- Planting & harvesting seasons\\n\"\n",
        "                f\"- Climate, temperature, humidity\\n\"\n",
        "                f\"- Soil, nutrients, fertilizers\\n\"\n",
        "                f\"- Best farming practices\\n\"\n",
        "                f\"- Off-season storage & uses\\n\"\n",
        "                f\"Provide expert-backed agricultural insights.\"\n",
        "            ),\n",
        "        )\n",
        "        return task\n",
        "    except Exception as e:\n",
        "        raise Exception(f\"Error in research_season: {e}\")\n"
      ]
    },
    {
      "cell_type": "markdown",
      "metadata": {
        "id": "S4ZoRv7YaM77"
      },
      "source": [
        "### price research task"
      ]
    },
    {
      "cell_type": "code",
      "execution_count": 13,
      "metadata": {
        "id": "x07Ulo9jaZHb"
      },
      "outputs": [],
      "source": [
        "from taskflowai import Task\n",
        "\n",
        "def research_price(plant_name: str):\n",
        "    \"\"\"Research market price details of the plant, including the lowest available price.\"\"\"\n",
        "    try:\n",
        "        agent = PriceFetchingAgent.initialize_price_fetching_agent(query=plant_name)\n",
        "        task = Task.create(\n",
        "            agent=agent,\n",
        "            context=f\"Plant: {plant_name}\",\n",
        "            instruction=(\n",
        "                f\"Fetch {plant_name} market prices:\\n\"\n",
        "                f\"- Online vs. offline price comparisons\\n\"\n",
        "                f\"- Cost per kg vs. per pound (by quality)\\n\"\n",
        "                f\"- Price differences by region (prioritize user location)\\n\"\n",
        "                f\"- Factors influencing price (season, demand, supply, quality)\\n\"\n",
        "                f\"- Identify the **lowest available price** and where it is found\\n\"\n",
        "                f\"Provide accurate, up-to-date market data.\"\n",
        "            ),\n",
        "        )\n",
        "        return task\n",
        "    except Exception as e:\n",
        "        raise Exception(f\"Error in research_price: {e}\")\n"
      ]
    },
    {
      "cell_type": "markdown",
      "metadata": {
        "id": "0eNd73hlFrn5"
      },
      "source": [
        "## Execute Research and Report - flow 1"
      ]
    },
    {
      "cell_type": "code",
      "execution_count": 14,
      "metadata": {
        "id": "BHSbQS2rFzq6"
      },
      "outputs": [],
      "source": [
        "def execute_research_and_report(plant_names):\n",
        "    \"\"\"Executes research tasks and generates a structured report for each plant.\n",
        "\n",
        "    Args:\n",
        "        plant_names (list): A list of plant names to research.\n",
        "\n",
        "    Returns:\n",
        "        dict: Research results categorized by plant name.\n",
        "    \"\"\"\n",
        "    research_results = {}\n",
        "    try:\n",
        "        if not plant_names:\n",
        "            return research_results\n",
        "\n",
        "        for plant_name in plant_names:\n",
        "            research_results[plant_name] = {\n",
        "                \"general\": research_overall_web(plant_name),\n",
        "                \"health\": research_health(plant_name),\n",
        "                \"season\": research_season(plant_name),\n",
        "                \"price\": research_price(plant_name),\n",
        "            }\n",
        "\n",
        "        return research_results\n",
        "\n",
        "    except Exception as e:\n",
        "        raise Exception(f\"Error in execute_research_and_report: {str(e)}\")\n"
      ]
    },
    {
      "cell_type": "markdown",
      "metadata": {
        "id": "85ZBjLn4GS4w"
      },
      "source": [
        "## Generate Summarized Report"
      ]
    },
    {
      "cell_type": "code",
      "execution_count": 15,
      "metadata": {
        "id": "Btkb36PnGbr2"
      },
      "outputs": [],
      "source": [
        "def generate_summarized_report(research_results):\n",
        "    \"\"\"Generates a structured and easy-to-read summarized report from research results.\n",
        "\n",
        "    Args:\n",
        "        research_results (dict): A dictionary containing research data for each plant.\n",
        "\n",
        "    Returns:\n",
        "        str: A formatted summary report of the research.\n",
        "    \"\"\"\n",
        "    try:\n",
        "        if not research_results:\n",
        "            return \"No research results to summarize.\"\n",
        "\n",
        "        summarized_report = \"🌿 **Plant Research Summary** 🌿\\n\\n\"\n",
        "\n",
        "        for plant, results in research_results.items():\n",
        "            summarized_report += f\"🌱 **{plant.capitalize()}**\\n\"\n",
        "            summarized_report += f\"📌 **General Information:** {results.get('general', 'No data available')}\\n\"\n",
        "            summarized_report += f\"🩺 **Health Benefits & Risks:** {results.get('health', 'No data available')}\\n\"\n",
        "            summarized_report += f\"🌤 **Growing Season & Conditions:** {results.get('season', 'No data available')}\\n\"\n",
        "            summarized_report += f\"💰 **Market Prices & Trends:** {results.get('price', 'No data available')}\\n\"\n",
        "            summarized_report += \"-\" * 50 + \"\\n\\n\"\n",
        "\n",
        "        return summarized_report\n",
        "\n",
        "    except Exception as e:\n",
        "        raise Exception(f\"Error in generate_summarized_report: {str(e)}\")\n"
      ]
    },
    {
      "cell_type": "markdown",
      "metadata": {
        "id": "Sh6WRHK0SE2j"
      },
      "source": [
        "### Endpoint"
      ]
    },
    {
      "cell_type": "code",
      "execution_count": 22,
      "metadata": {
        "colab": {
          "base_uri": "https://localhost:8080/"
        },
        "id": "yM4Q7DagqubY",
        "outputId": "1a69eff1-48e7-471a-83e6-8c6e79fa981b"
      },
      "outputs": [
        {
          "name": "stdout",
          "output_type": "stream",
          "text": [
            "Enter the plant name(s) (comma-separated if multiple): chamomile\n",
            "✔ Request completed\n",
            "Tool Use: search_web\n",
            "Parameters:\n",
            "  query: chamomile scientific classification, origin, regions\n",
            "\n",
            "Searching Exa for: 'chamomile scientific classification, origin, regions'\n",
            "Result: {'queries': ['chamomile scientific classification, origin, regions'], 'results': [{'query': 'chamomile scientific classification, origin, regions', 'data': [{'title': 'Jammu and Kashmir Medicinal Plants Introduction Centre', 'url': 'https://jkmpic.blogspot.com/2020/11', 'author': '', 'highlights': \"yellow. 'Jade Butterfly' - An unusual dwarf, slow-growing form, this plant has bright green leaves a...\n",
            "\n",
            "Tool Use: search_web\n",
            "Parameters:\n",
            "  query: chamomile uses, benefits, growth conditions\n",
            "\n",
            "Searching Exa for: 'chamomile uses, benefits, growth conditions'\n",
            "Result: {'queries': ['chamomile uses, benefits, growth conditions'], 'results': [{'query': 'chamomile uses, benefits, growth conditions', 'data': [{'title': 'Chamomile: Usefulness and Safety', 'url': 'https://www.nccih.nih.gov/health/chamomile', 'author': '', 'highlights': 'It is possibly safe when used by adults and children orally for medicinal purposes over the short term. Using chamomile on the skin i...\n",
            "\n",
            "Tool Use: search_web\n",
            "Parameters:\n",
            "  query: chamomile pests, diseases, economic significance\n",
            "\n",
            "Searching Exa for: 'chamomile pests, diseases, economic significance'\n",
            "Result: {'queries': ['chamomile pests, diseases, economic significance'], 'results': [{'query': 'chamomile pests, diseases, economic significance', 'data': [{'title': 'Global Chamomile Extract Market Report and Forecast 2024-2032', 'url': 'https://www.expertmarketresearch.com/reports/chamomile-extract-market', 'author': '', 'highlights': \" Over the forecast period, the increasing preference for organic an...\n",
            "\n",
            "Tool Use: search_images\n",
            "Parameters:\n",
            "  query: chamomile plant\n",
            "\n",
            "Searching images for query: chamomile plant\n",
            "Result: \n",
            "Image 1:\n",
            "  Title: File:Anthemis tinctoria (Dyer's Chamomile) (28725158141).jpg\n",
            "  URL: https://commons.wikimedia.org/wiki/File:Anthemis_tinctoria_(Dyer%27s_Chamomile)_(28725158141).jpg\n",
            "  Thumbnail: https://upload.wikimedia.org/wikipedia/commons/thumb/e/e4/Anthemis_tinctoria_%28Dyer%27s_Chamomile%29_%2828725158141%29.jpg/250px-Anthemis_tinctoria_%28Dyer%27s_Chamomile%29_%2828725158141%29.jpg\n",
            "------...\n",
            "\n",
            "✔ Request completed\n",
            "Status: END_TOOL_USAGE\n",
            "\n",
            "✔ Request completed\n",
            "✔ Request completed\n",
            "Tool Use: search_web\n",
            "Parameters:\n",
            "  query: Health benefits of chamomile\n",
            "\n",
            "Searching Exa for: 'Health benefits of chamomile'\n",
            "Result: {'queries': ['Health benefits of chamomile'], 'results': [{'query': 'Health benefits of chamomile', 'data': [{'title': 'Chamomile Health Benefits & Uses', 'url': 'https://www.webmd.com/diet/supplement-guide-chamomile', 'author': 'Written by Pamela Ferdinand, R. Morgan Griffin, Kristin Mitchell', 'highlights': \"But its potential benefits include improved sleep, reduced anxiety , relief from stomach...\n",
            "\n",
            "Tool Use: search_web\n",
            "Parameters:\n",
            "  query: Risks and toxicity of chamomile\n",
            "\n",
            "Searching Exa for: 'Risks and toxicity of chamomile'\n",
            "Result: {'queries': ['Risks and toxicity of chamomile'], 'results': [{'query': 'Risks and toxicity of chamomile', 'data': [{'title': 'Chamomile | DermNet', 'url': 'https://dermnetnz.org/topics/chamomile', 'author': 'Author: Hon A/Prof Marius Rademaker, Dermatologist, Hamilton, New Zealand,1999.', 'highlights': ' The allergens in chamomile include nobilin (Sweet chamomile) and desacetylmatricarin (German c...\n",
            "\n",
            "Tool Use: search_web\n",
            "Parameters:\n",
            "  query: Nutritional value of chamomile\n",
            "\n",
            "Searching Exa for: 'Nutritional value of chamomile'\n",
            "Result: {'queries': ['Nutritional value of chamomile'], 'results': [{'query': 'Nutritional value of chamomile', 'data': [{'title': 'Chamomile tea benefits', 'url': 'https://chamomiletea-benefits.blogspot.com/', 'author': '', 'highlights': 'Externally, due to its antiseptic qualities, chamomile is used for baths, poultices, gargles, and enemas.  Gargling is recommended in diseases of the mouth, abscesses, ...\n",
            "\n",
            "Tool Use: search_web\n",
            "Parameters:\n",
            "  query: Traditional remedies using chamomile\n",
            "\n",
            "Searching Exa for: 'Traditional remedies using chamomile'\n",
            "Result: {'queries': ['Traditional remedies using chamomile'], 'results': [{'query': 'Traditional remedies using chamomile', 'data': [{'title': 'Chamomile Health Benefits & Uses', 'url': 'https://www.webmd.com/diet/supplement-guide-chamomile', 'author': 'Written by Pamela Ferdinand, R. Morgan Griffin, Kristin Mitchell', 'highlights': \"Talk to your doctor before you use chamomile if you have any health cond...\n",
            "\n",
            "Tool Use: search_web\n",
            "Parameters:\n",
            "  query: Scientific studies on chamomile\n",
            "\n",
            "Searching Exa for: 'Scientific studies on chamomile'\n",
            "Result: {'queries': ['Scientific studies on chamomile'], 'results': [{'query': 'Scientific studies on chamomile', 'data': [{'title': 'Chamomile Health Benefits & Uses', 'url': 'https://www.webmd.com/diet/supplement-guide-chamomile', 'author': 'Written by Pamela Ferdinand, R. Morgan Griffin, Kristin Mitchell', 'highlights': \"But its potential benefits include improved sleep, reduced anxiety , relief from s...\n",
            "\n",
            "⠸ Sending request to OpenAI...API error: Error code: 400 - {'error': {'message': \"This model's maximum context length is 16385 tokens. However, you requested 16412 tokens (12412 in the messages, 4000 in the completion). Please reduce the length of the messages or completion.\", 'type': 'invalid_request_error', 'param': 'messages', 'code': 'context_length_exceeded'}}\n",
            "✖ Request failed\n",
            "✔ Request completed\n",
            "Tool Use: search_web\n",
            "Parameters:\n",
            "  query: chamomile optimal growth conditions\n",
            "\n",
            "Searching Exa for: 'chamomile optimal growth conditions'\n",
            "Result: {'queries': ['chamomile optimal growth conditions'], 'results': [{'query': 'chamomile optimal growth conditions', 'data': [{'title': 'The Effect of Different Concentrations of Growth Regulators and the Type of Explants on Embryogenesis and Rooting of German Chamomile (Matricaria chamomilla L)', 'url': 'https://microbiologyjournal.org/the-effect-of-different-concentrations-of-growth-regulators-and-...\n",
            "\n",
            "✔ Request completed\n",
            "Tool Use: search_web\n",
            "Parameters:\n",
            "  query: chamomile uses and benefits\n",
            "\n",
            "Searching Exa for: 'chamomile uses and benefits'\n",
            "Result: {'queries': ['chamomile uses and benefits'], 'results': [{'query': 'chamomile uses and benefits', 'data': [{'title': 'Chamomile', 'url': 'https://www.herbazest.com/herbs/chamomile', 'author': '', 'highlights': 'Other Uses of Chamomile Cosmetics. Chamomile enjoys an important economic position in the personal care industry, where it is frequently added to hair and skin products, due to its fragranc...\n",
            "\n",
            "Tool Use: search_images\n",
            "Parameters:\n",
            "  query: chamomile plant\n",
            "\n",
            "Searching images for query: chamomile plant\n",
            "Result: \n",
            "Image 1:\n",
            "  Title: File:Anthemis tinctoria (Dyer's Chamomile) (28725158141).jpg\n",
            "  URL: https://commons.wikimedia.org/wiki/File:Anthemis_tinctoria_(Dyer%27s_Chamomile)_(28725158141).jpg\n",
            "  Thumbnail: https://upload.wikimedia.org/wikipedia/commons/thumb/e/e4/Anthemis_tinctoria_%28Dyer%27s_Chamomile%29_%2828725158141%29.jpg/250px-Anthemis_tinctoria_%28Dyer%27s_Chamomile%29_%2828725158141%29.jpg\n",
            "------...\n",
            "\n",
            "✔ Request completed\n",
            "Status: END_TOOL_USAGE\n",
            "\n",
            "✔ Request completed\n",
            "✔ Request completed\n",
            "Tool Use: search_web\n",
            "Parameters:\n",
            "  query: chamomile market prices online vs offline\n",
            "  num_results: 5\n",
            "\n",
            "Searching Exa for: 'chamomile market prices online vs offline'\n",
            "Result: {'queries': ['chamomile market prices online vs offline'], 'results': [{'query': 'chamomile market prices online vs offline', 'data': [{'title': 'Global Chamomile Extract Market - 2023-2030 - GII Research', 'url': 'https://www.giiresearch.com/report/dmin1372128-global-chamomile-extract-market.html', 'author': '', 'highlights': \"The food &amp; beverages segment has the largest share of the global c...\n",
            "\n",
            "Tool Use: search_web\n",
            "Parameters:\n",
            "  query: chamomile price per kg vs per pound by quality\n",
            "  num_results: 5\n",
            "\n",
            "Searching Exa for: 'chamomile price per kg vs per pound by quality'\n",
            "Result: {'queries': ['chamomile price per kg vs per pound by quality'], 'results': [{'query': 'chamomile price per kg vs per pound by quality', 'data': [{'title': 'Chamomile | 1 LB & 1 KG | Bulk Herbs - shopbonnatural', 'url': 'https://bonnatural.co/products/chamomile-1-lb-1-kg-bulk-herbs', 'author': '', 'highlights': 'Payment &amp; Security Payment methods \\n \\n \\n \\n \\n \\n Your payment information is pr...\n",
            "\n",
            "Tool Use: search_web\n",
            "Parameters:\n",
            "  query: chamomile price differences by region\n",
            "  num_results: 5\n",
            "\n",
            "Searching Exa for: 'chamomile price differences by region'\n",
            "Result: {'queries': ['chamomile price differences by region'], 'results': [{'query': 'chamomile price differences by region', 'data': [{'title': 'Chamomile Herbal Tea Market Players, Size, Share & Statistics By ...', 'url': 'https://www.databridgemarketresearch.com/reports/global-chamomile-herbal-tea-market?srsltid=AfmBOorCSRED8FCOlFKrxbjUBMXe-S6TsECl6vgq8jkp5LhYAqJ5eg3H', 'author': '', 'highlights': \" Th...\n",
            "\n",
            "Tool Use: search_web\n",
            "Parameters:\n",
            "  query: factors influencing chamomile price season demand supply quality\n",
            "  num_results: 5\n",
            "\n",
            "Searching Exa for: 'factors influencing chamomile price season demand supply quality'\n",
            "Result: {'queries': ['factors influencing chamomile price season demand supply quality'], 'results': [{'query': 'factors influencing chamomile price season demand supply quality', 'data': [{'title': 'Chamomile Market 2025-2034 | Size,Share, Growth', 'url': 'https://markwideresearch.com/chamomile-market/', 'author': '', 'highlights': 'Price volatility can impact profit margins and limit market growth.   Li...\n",
            "\n",
            "✔ Request completed\n",
            "Status: END_TOOL_USAGE\n",
            "\n",
            "✔ Request completed\n",
            "\n",
            "--- Research Results for chamomile ---\n",
            "General Information:\n",
            " ### Chamomile Plant Details:\n",
            "\n",
            "#### Scientific Classification, Origin, and Regions:\n",
            "- **Scientific Classification:** Chamomile belongs to the Asteraceae family. The two common varieties are German Chamomile (*Chamomilla recutita*) and Roman Chamomile (*Chamaemelum nobile*).\n",
            "- **Origin:** Chamomile is one of the most ancient medicinal herbs and has been used for centuries as an antioxidant, anti-inflammatory, and healing medicine. It is native to Europe and Western Asia.\n",
            "- **Regions:** Chamomile is widely cultivated in various regions around the world, including Europe, Western Asia, North America, and Australia.\n",
            "\n",
            "#### Uses, Benefits, and Growth Conditions:\n",
            "- Chamomile is utilized for various purposes:\n",
            "  - **Medicinal Uses:** It is used for treating conditions like colds, indigestion, anxiety, insomnia, skin irritations, and more.\n",
            "  - **Cosmetic Uses:** Chamomile extracts are used in skincare products for their soothing and anti-inflammatory properties.\n",
            "  - **Culinary Uses:** Chamomile flowers are used to make tea and can also be incorporated into soups, baked goods, and salads.\n",
            "- **Benefits:** Chamomile has anti-inflammatory, antioxidant, and calming properties. It may help with sleep, skin conditions, and gastrointestinal issues.\n",
            "- **Growth Conditions:** Chamomile plants prefer well-drained soil in full sun to partial shade. They can be grown from seeds and require minimal care once established.\n",
            "\n",
            "#### Pests, Diseases, and Economic Significance:\n",
            "- **Pests and Diseases:** While chamomile is generally resilient, it can be susceptible to pests like aphids and diseases like powdery mildew. Proper irrigation and good air circulation can help prevent these issues.\n",
            "- **Economic Significance:** Chamomile extract is used in various industries, including cosmetics, herbal medicine, and food. The increasing demand for organic and natural products has driven the growth of the chamomile extract market.\n",
            "\n",
            "#### Relevant Images:\n",
            "1. ![Anthemis tinctoria (Dyer's Chamomile)](https://upload.wikimedia.org/wikipedia/commons/e/e4/Anthemis_tinctoria_%28Dyer%27s_Chamomile%29_%2828725158141%29.jpg)\n",
            "2. ![Austrian Chamomile](https://upload.wikimedia.org/wikipedia/commons/3/38/Austrian_chamomile.jpg)\n",
            "3. ![Chamomile](https://upload.wikimedia.org/wikipedia/commons/3/39/Chamomile_%2814425477537%29.jpg)\n",
            "\n",
            "Feel free to ask for more details or specific information about chamomile!\n",
            "\n",
            "Health Research:\n",
            " Error code: 400 - {'error': {'message': \"This model's maximum context length is 16385 tokens. However, you requested 16412 tokens (12412 in the messages, 4000 in the completion). Please reduce the length of the messages or completion.\", 'type': 'invalid_request_error', 'param': 'messages', 'code': 'context_length_exceeded'}}\n",
            "\n",
            "Seasonal Research:\n",
            " ### Chamomile Plant Research:\n",
            "\n",
            "#### Planting & Harvesting Seasons:\n",
            "- Chamomile is typically planted in the early spring after the last frost date.\n",
            "- Harvesting is usually done when the flowers are in full bloom, which is generally in the summer months.\n",
            "\n",
            "#### Climate, Temperature, Humidity:\n",
            "- Chamomile thrives in temperate climates with mild temperatures, around 60-70°F (15-21°C).\n",
            "- It prefers full sun but can tolerate partial shade.\n",
            "- Chamomile requires moderate humidity levels but can adapt to different humidity conditions.\n",
            "\n",
            "#### Soil, Nutrients, Fertilizers:\n",
            "- Chamomile grows well in well-draining, sandy loam soil with a pH range of 5.6 to 7.5.\n",
            "- It benefits from organic matter in the soil and can be fertilized with a balanced fertilizer in the spring.\n",
            "\n",
            "#### Best Farming Practices:\n",
            "- Chamomile can be propagated from seeds or divisions.\n",
            "- Proper spacing is essential to allow for good air circulation and prevent diseases.\n",
            "- Regular watering is crucial, especially during dry periods.\n",
            "- Mulching around the plants can help retain moisture and suppress weeds.\n",
            "\n",
            "#### Off-Season Storage & Uses:\n",
            "- Chamomile flowers can be dried for storage and later use in teas, tinctures, or skincare products.\n",
            "- Store dried chamomile flowers in airtight containers in a cool, dark place to maintain their potency.\n",
            "- Chamomile has various uses, including promoting relaxation, aiding digestion, and soothing skin irritations.\n",
            "\n",
            "By following these optimal growth conditions and best farming practices, farmers can ensure a successful chamomile cultivation process, leading to high-quality yields with potent medicinal properties.\n",
            "\n",
            "Price Research:\n",
            " ### Chamomile Market Price Research:\n",
            "\n",
            "#### Online vs. Offline Price Comparisons:\n",
            "- Based on the provided data, online sources offer a range of chamomile products such as chamomile herbal tea, chamomile extract, and chamomile flowers for purchase. Prices can vary based on the specific product and quality.\n",
            "\n",
            "#### Cost per kg vs. per pound (by quality):\n",
            "- Prices for chamomile per kg or per pound can vary depending on the quality and type of product. For example, organic chamomile flowers can be found online at prices ranging from $6.65 to $7.14 per unit.\n",
            "\n",
            "#### Price Differences by Region:\n",
            "- The Asia-Pacific region, particularly countries like China, Japan, and India, is noted for driving market growth in the chamomile herbal tea segment due to increased tea consumption and anti-aging properties. North America is also experiencing growth in chamomile consumption.\n",
            "\n",
            "#### Factors Influencing Price (Season, Demand, Supply, Quality):\n",
            "- Factors such as price volatility, limited consumer awareness in emerging markets, growing demand in the cosmetics industry, seasonal availability, and climate change can impact chamomile prices. Economic fluctuations and consumer trends also play a role in price determination.\n",
            "\n",
            "#### Lowest Available Price Found:\n",
            "- The lowest available price for chamomile products may vary depending on the specific type and quality desired by the buyer. For the most accurate and up-to-date pricing information, it is recommended to directly check online retailers or local stores.\n",
            "\n",
            "In conclusion, when seeking the lowest available price for chamomile products, it is advisable to compare prices across online retailers, consider quality differences, and take into account regional market dynamics. For the most cost-effective option, consumers should conduct thorough research and price comparisons based on their specific preferences and requirements.\n",
            "\n",
            "----------------------------------------\n",
            "\n",
            "Final Summarized Report:\n",
            "\n",
            "🌿 **Plant Research Summary** 🌿\n",
            "\n",
            "🌱 **Chamomile**\n",
            "📌 **General Information:** ### Chamomile Plant Details:\n",
            "\n",
            "#### Scientific Classification, Origin, and Regions:\n",
            "- **Scientific Classification:** Chamomile belongs to the Asteraceae family. The two common varieties are German Chamomile (*Chamomilla recutita*) and Roman Chamomile (*Chamaemelum nobile*).\n",
            "- **Origin:** Chamomile is one of the most ancient medicinal herbs and has been used for centuries as an antioxidant, anti-inflammatory, and healing medicine. It is native to Europe and Western Asia.\n",
            "- **Regions:** Chamomile is widely cultivated in various regions around the world, including Europe, Western Asia, North America, and Australia.\n",
            "\n",
            "#### Uses, Benefits, and Growth Conditions:\n",
            "- Chamomile is utilized for various purposes:\n",
            "  - **Medicinal Uses:** It is used for treating conditions like colds, indigestion, anxiety, insomnia, skin irritations, and more.\n",
            "  - **Cosmetic Uses:** Chamomile extracts are used in skincare products for their soothing and anti-inflammatory properties.\n",
            "  - **Culinary Uses:** Chamomile flowers are used to make tea and can also be incorporated into soups, baked goods, and salads.\n",
            "- **Benefits:** Chamomile has anti-inflammatory, antioxidant, and calming properties. It may help with sleep, skin conditions, and gastrointestinal issues.\n",
            "- **Growth Conditions:** Chamomile plants prefer well-drained soil in full sun to partial shade. They can be grown from seeds and require minimal care once established.\n",
            "\n",
            "#### Pests, Diseases, and Economic Significance:\n",
            "- **Pests and Diseases:** While chamomile is generally resilient, it can be susceptible to pests like aphids and diseases like powdery mildew. Proper irrigation and good air circulation can help prevent these issues.\n",
            "- **Economic Significance:** Chamomile extract is used in various industries, including cosmetics, herbal medicine, and food. The increasing demand for organic and natural products has driven the growth of the chamomile extract market.\n",
            "\n",
            "#### Relevant Images:\n",
            "1. ![Anthemis tinctoria (Dyer's Chamomile)](https://upload.wikimedia.org/wikipedia/commons/e/e4/Anthemis_tinctoria_%28Dyer%27s_Chamomile%29_%2828725158141%29.jpg)\n",
            "2. ![Austrian Chamomile](https://upload.wikimedia.org/wikipedia/commons/3/38/Austrian_chamomile.jpg)\n",
            "3. ![Chamomile](https://upload.wikimedia.org/wikipedia/commons/3/39/Chamomile_%2814425477537%29.jpg)\n",
            "\n",
            "Feel free to ask for more details or specific information about chamomile!\n",
            "🩺 **Health Benefits & Risks:** Error code: 400 - {'error': {'message': \"This model's maximum context length is 16385 tokens. However, you requested 16412 tokens (12412 in the messages, 4000 in the completion). Please reduce the length of the messages or completion.\", 'type': 'invalid_request_error', 'param': 'messages', 'code': 'context_length_exceeded'}}\n",
            "🌤 **Growing Season & Conditions:** ### Chamomile Plant Research:\n",
            "\n",
            "#### Planting & Harvesting Seasons:\n",
            "- Chamomile is typically planted in the early spring after the last frost date.\n",
            "- Harvesting is usually done when the flowers are in full bloom, which is generally in the summer months.\n",
            "\n",
            "#### Climate, Temperature, Humidity:\n",
            "- Chamomile thrives in temperate climates with mild temperatures, around 60-70°F (15-21°C).\n",
            "- It prefers full sun but can tolerate partial shade.\n",
            "- Chamomile requires moderate humidity levels but can adapt to different humidity conditions.\n",
            "\n",
            "#### Soil, Nutrients, Fertilizers:\n",
            "- Chamomile grows well in well-draining, sandy loam soil with a pH range of 5.6 to 7.5.\n",
            "- It benefits from organic matter in the soil and can be fertilized with a balanced fertilizer in the spring.\n",
            "\n",
            "#### Best Farming Practices:\n",
            "- Chamomile can be propagated from seeds or divisions.\n",
            "- Proper spacing is essential to allow for good air circulation and prevent diseases.\n",
            "- Regular watering is crucial, especially during dry periods.\n",
            "- Mulching around the plants can help retain moisture and suppress weeds.\n",
            "\n",
            "#### Off-Season Storage & Uses:\n",
            "- Chamomile flowers can be dried for storage and later use in teas, tinctures, or skincare products.\n",
            "- Store dried chamomile flowers in airtight containers in a cool, dark place to maintain their potency.\n",
            "- Chamomile has various uses, including promoting relaxation, aiding digestion, and soothing skin irritations.\n",
            "\n",
            "By following these optimal growth conditions and best farming practices, farmers can ensure a successful chamomile cultivation process, leading to high-quality yields with potent medicinal properties.\n",
            "💰 **Market Prices & Trends:** ### Chamomile Market Price Research:\n",
            "\n",
            "#### Online vs. Offline Price Comparisons:\n",
            "- Based on the provided data, online sources offer a range of chamomile products such as chamomile herbal tea, chamomile extract, and chamomile flowers for purchase. Prices can vary based on the specific product and quality.\n",
            "\n",
            "#### Cost per kg vs. per pound (by quality):\n",
            "- Prices for chamomile per kg or per pound can vary depending on the quality and type of product. For example, organic chamomile flowers can be found online at prices ranging from $6.65 to $7.14 per unit.\n",
            "\n",
            "#### Price Differences by Region:\n",
            "- The Asia-Pacific region, particularly countries like China, Japan, and India, is noted for driving market growth in the chamomile herbal tea segment due to increased tea consumption and anti-aging properties. North America is also experiencing growth in chamomile consumption.\n",
            "\n",
            "#### Factors Influencing Price (Season, Demand, Supply, Quality):\n",
            "- Factors such as price volatility, limited consumer awareness in emerging markets, growing demand in the cosmetics industry, seasonal availability, and climate change can impact chamomile prices. Economic fluctuations and consumer trends also play a role in price determination.\n",
            "\n",
            "#### Lowest Available Price Found:\n",
            "- The lowest available price for chamomile products may vary depending on the specific type and quality desired by the buyer. For the most accurate and up-to-date pricing information, it is recommended to directly check online retailers or local stores.\n",
            "\n",
            "In conclusion, when seeking the lowest available price for chamomile products, it is advisable to compare prices across online retailers, consider quality differences, and take into account regional market dynamics. For the most cost-effective option, consumers should conduct thorough research and price comparisons based on their specific preferences and requirements.\n",
            "--------------------------------------------------\n",
            "\n",
            "\n"
          ]
        }
      ],
      "source": [
        "if __name__ == \"__main__\":\n",
        "    plant_name = input(\"Enter the plant name(s) (comma-separated if multiple): \").strip()\n",
        "\n",
        "    # Convert input into a list of plant names\n",
        "    plant_names = [name.strip() for name in plant_name.split(\",\")]\n",
        "\n",
        "    try:\n",
        "        # Execute research and collect results\n",
        "        research_results = execute_research_and_report(plant_names)\n",
        "\n",
        "        # Print research results one by one as they are processed\n",
        "        for plant, results in research_results.items():\n",
        "            print(f\"\\n--- Research Results for {plant} ---\")\n",
        "            print(\"General Information:\\n\", results.get(\"general\", \"No data available\"))\n",
        "            print(\"\\nHealth Research:\\n\", results.get(\"health\", \"No data available\"))\n",
        "            print(\"\\nSeasonal Research:\\n\", results.get(\"season\", \"No data available\"))\n",
        "            print(\"\\nPrice Research:\\n\", results.get(\"price\", \"No data available\"))\n",
        "            print(\"\\n\" + \"-\" * 40)  # Separator for clarity\n",
        "\n",
        "        # Generate and print summarized report\n",
        "        summarized_report = generate_summarized_report(research_results)\n",
        "        print(\"\\nFinal Summarized Report:\\n\")\n",
        "        print(summarized_report)\n",
        "\n",
        "    except Exception as e:\n",
        "        print(\"\\nAn error occurred:\", str(e))\n"
      ]
    },
    {
      "cell_type": "code",
      "execution_count": null,
      "metadata": {
        "id": "egfUN9eWqueH"
      },
      "outputs": [],
      "source": []
    },
    {
      "cell_type": "code",
      "execution_count": null,
      "metadata": {
        "id": "7twjhSRSqugk"
      },
      "outputs": [],
      "source": []
    },
    {
      "cell_type": "code",
      "execution_count": null,
      "metadata": {
        "id": "Sg3N-QqcqujX"
      },
      "outputs": [],
      "source": []
    },
    {
      "cell_type": "code",
      "execution_count": null,
      "metadata": {
        "id": "PenZvXTsqul7"
      },
      "outputs": [],
      "source": []
    },
    {
      "cell_type": "code",
      "execution_count": null,
      "metadata": {
        "id": "xKQ5nOVQquoF"
      },
      "outputs": [],
      "source": []
    },
    {
      "cell_type": "code",
      "execution_count": null,
      "metadata": {
        "id": "nRNkUTaEquqO"
      },
      "outputs": [],
      "source": []
    }
  ],
  "metadata": {
    "colab": {
      "provenance": []
    },
    "kernelspec": {
      "display_name": "Python 3",
      "name": "python3"
    },
    "language_info": {
      "name": "python",
      "version": "3.10.16"
    }
  },
  "nbformat": 4,
  "nbformat_minor": 0
}
